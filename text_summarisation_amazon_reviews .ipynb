{
  "nbformat": 4,
  "nbformat_minor": 0,
  "metadata": {
    "colab": {
      "name": "text_summarisation_amazon_reviews.ipynb",
      "provenance": [],
      "collapsed_sections": []
    },
    "kernelspec": {
      "display_name": "Python 3",
      "name": "python3"
    }
  },
  "cells": [
    {
      "cell_type": "code",
      "metadata": {
        "id": "DJBVRqmaiKkD"
      },
      "source": [
        "#!pip install tensorflow-gpu"
      ],
      "execution_count": null,
      "outputs": []
    },
    {
      "cell_type": "markdown",
      "metadata": {
        "id": "eSa6IP0jz2tM"
      },
      "source": [
        "importing required libraries\n"
      ]
    },
    {
      "cell_type": "code",
      "metadata": {
        "id": "arBqYm25fMol"
      },
      "source": [
        "import numpy as np  \n",
        "import pandas as pd \n",
        "import re           \n",
        "from bs4 import BeautifulSoup \n",
        "from keras.preprocessing.text import Tokenizer \n",
        "from keras.preprocessing.sequence import pad_sequences\n",
        "from nltk.corpus import stopwords   \n",
        "from tensorflow.keras.layers import Input, LSTM, Embedding, Dense, Concatenate, TimeDistributed, Bidirectional\n",
        "from tensorflow.keras.models import Model\n",
        "\n",
        "from tensorflow.keras.callbacks import EarlyStopping, ModelCheckpoint\n",
        "import warnings\n",
        "pd.set_option(\"display.max_colwidth\", 200)\n",
        "warnings.filterwarnings(\"ignore\")"
      ],
      "execution_count": null,
      "outputs": []
    },
    {
      "cell_type": "code",
      "metadata": {
        "id": "MO8EonXml7fU"
      },
      "source": [
        "import os\n",
        "os.chdir(\"/content/drive/My Drive/data_files\")"
      ],
      "execution_count": null,
      "outputs": []
    },
    {
      "cell_type": "markdown",
      "metadata": {
        "id": "qKMPzFmizrLM"
      },
      "source": [
        "Adding requirement for attention layer\n"
      ]
    },
    {
      "cell_type": "code",
      "metadata": {
        "id": "5HO9UYfQmLgW"
      },
      "source": [
        "from attention import AttentionLayer"
      ],
      "execution_count": null,
      "outputs": []
    },
    {
      "cell_type": "code",
      "metadata": {
        "id": "NXxeCZAMfdh4"
      },
      "source": [
        "data=pd.read_csv(\"/content/drive/My Drive/data_files/Reviews.csv\")"
      ],
      "execution_count": null,
      "outputs": []
    },
    {
      "cell_type": "code",
      "metadata": {
        "id": "TsounfNZDuZy",
        "outputId": "eed5430b-9337-4f87-d634-d2b343c79155",
        "colab": {
          "base_uri": "https://localhost:8080/",
          "height": 595
        }
      },
      "source": [
        "data.head()"
      ],
      "execution_count": null,
      "outputs": [
        {
          "output_type": "execute_result",
          "data": {
            "text/html": [
              "<div>\n",
              "<style scoped>\n",
              "    .dataframe tbody tr th:only-of-type {\n",
              "        vertical-align: middle;\n",
              "    }\n",
              "\n",
              "    .dataframe tbody tr th {\n",
              "        vertical-align: top;\n",
              "    }\n",
              "\n",
              "    .dataframe thead th {\n",
              "        text-align: right;\n",
              "    }\n",
              "</style>\n",
              "<table border=\"1\" class=\"dataframe\">\n",
              "  <thead>\n",
              "    <tr style=\"text-align: right;\">\n",
              "      <th></th>\n",
              "      <th>Id</th>\n",
              "      <th>ProductId</th>\n",
              "      <th>UserId</th>\n",
              "      <th>ProfileName</th>\n",
              "      <th>HelpfulnessNumerator</th>\n",
              "      <th>HelpfulnessDenominator</th>\n",
              "      <th>Score</th>\n",
              "      <th>Time</th>\n",
              "      <th>Summary</th>\n",
              "      <th>Text</th>\n",
              "    </tr>\n",
              "  </thead>\n",
              "  <tbody>\n",
              "    <tr>\n",
              "      <th>0</th>\n",
              "      <td>1</td>\n",
              "      <td>B001E4KFG0</td>\n",
              "      <td>A3SGXH7AUHU8GW</td>\n",
              "      <td>delmartian</td>\n",
              "      <td>1</td>\n",
              "      <td>1</td>\n",
              "      <td>5</td>\n",
              "      <td>1303862400</td>\n",
              "      <td>Good Quality Dog Food</td>\n",
              "      <td>I have bought several of the Vitality canned dog food products and have found them all to be of good quality. The product looks more like a stew than a processed meat and it smells better. My Labr...</td>\n",
              "    </tr>\n",
              "    <tr>\n",
              "      <th>1</th>\n",
              "      <td>2</td>\n",
              "      <td>B00813GRG4</td>\n",
              "      <td>A1D87F6ZCVE5NK</td>\n",
              "      <td>dll pa</td>\n",
              "      <td>0</td>\n",
              "      <td>0</td>\n",
              "      <td>1</td>\n",
              "      <td>1346976000</td>\n",
              "      <td>Not as Advertised</td>\n",
              "      <td>Product arrived labeled as Jumbo Salted Peanuts...the peanuts were actually small sized unsalted. Not sure if this was an error or if the vendor intended to represent the product as \"Jumbo\".</td>\n",
              "    </tr>\n",
              "    <tr>\n",
              "      <th>2</th>\n",
              "      <td>3</td>\n",
              "      <td>B000LQOCH0</td>\n",
              "      <td>ABXLMWJIXXAIN</td>\n",
              "      <td>Natalia Corres \"Natalia Corres\"</td>\n",
              "      <td>1</td>\n",
              "      <td>1</td>\n",
              "      <td>4</td>\n",
              "      <td>1219017600</td>\n",
              "      <td>\"Delight\" says it all</td>\n",
              "      <td>This is a confection that has been around a few centuries.  It is a light, pillowy citrus gelatin with nuts - in this case Filberts. And it is cut into tiny squares and then liberally coated with ...</td>\n",
              "    </tr>\n",
              "    <tr>\n",
              "      <th>3</th>\n",
              "      <td>4</td>\n",
              "      <td>B000UA0QIQ</td>\n",
              "      <td>A395BORC6FGVXV</td>\n",
              "      <td>Karl</td>\n",
              "      <td>3</td>\n",
              "      <td>3</td>\n",
              "      <td>2</td>\n",
              "      <td>1307923200</td>\n",
              "      <td>Cough Medicine</td>\n",
              "      <td>If you are looking for the secret ingredient in Robitussin I believe I have found it.  I got this in addition to the Root Beer Extract I ordered (which was good) and made some cherry soda.  The fl...</td>\n",
              "    </tr>\n",
              "    <tr>\n",
              "      <th>4</th>\n",
              "      <td>5</td>\n",
              "      <td>B006K2ZZ7K</td>\n",
              "      <td>A1UQRSCLF8GW1T</td>\n",
              "      <td>Michael D. Bigham \"M. Wassir\"</td>\n",
              "      <td>0</td>\n",
              "      <td>0</td>\n",
              "      <td>5</td>\n",
              "      <td>1350777600</td>\n",
              "      <td>Great taffy</td>\n",
              "      <td>Great taffy at a great price.  There was a wide assortment of yummy taffy.  Delivery was very quick.  If your a taffy lover, this is a deal.</td>\n",
              "    </tr>\n",
              "  </tbody>\n",
              "</table>\n",
              "</div>"
            ],
            "text/plain": [
              "   Id  ...                                                                                                                                                                                                     Text\n",
              "0   1  ...  I have bought several of the Vitality canned dog food products and have found them all to be of good quality. The product looks more like a stew than a processed meat and it smells better. My Labr...\n",
              "1   2  ...           Product arrived labeled as Jumbo Salted Peanuts...the peanuts were actually small sized unsalted. Not sure if this was an error or if the vendor intended to represent the product as \"Jumbo\".\n",
              "2   3  ...  This is a confection that has been around a few centuries.  It is a light, pillowy citrus gelatin with nuts - in this case Filberts. And it is cut into tiny squares and then liberally coated with ...\n",
              "3   4  ...  If you are looking for the secret ingredient in Robitussin I believe I have found it.  I got this in addition to the Root Beer Extract I ordered (which was good) and made some cherry soda.  The fl...\n",
              "4   5  ...                                                             Great taffy at a great price.  There was a wide assortment of yummy taffy.  Delivery was very quick.  If your a taffy lover, this is a deal.\n",
              "\n",
              "[5 rows x 10 columns]"
            ]
          },
          "metadata": {
            "tags": []
          },
          "execution_count": 53
        }
      ]
    },
    {
      "cell_type": "code",
      "metadata": {
        "id": "Wj0aHqgWDvPk"
      },
      "source": [
        "data.drop_duplicates(subset=['Text'],inplace=True)  #dropping duplicates\n",
        "data.dropna(axis=0,inplace=True) "
      ],
      "execution_count": null,
      "outputs": []
    },
    {
      "cell_type": "code",
      "metadata": {
        "id": "fxaGpSswD2g8",
        "outputId": "1a526477-cc92-4b0c-ebda-ebe9211cf450",
        "colab": {
          "base_uri": "https://localhost:8080/"
        }
      },
      "source": [
        "data.shape"
      ],
      "execution_count": null,
      "outputs": [
        {
          "output_type": "execute_result",
          "data": {
            "text/plain": [
              "(393565, 10)"
            ]
          },
          "metadata": {
            "tags": []
          },
          "execution_count": 55
        }
      ]
    },
    {
      "cell_type": "markdown",
      "metadata": {
        "id": "r-alAq_60CGP"
      },
      "source": [
        "Dictionary for expanding the contractions¶\n"
      ]
    },
    {
      "cell_type": "code",
      "metadata": {
        "id": "gPx_i92wD3XK"
      },
      "source": [
        "contraction_mapping = {\"ain't\": \"is not\", \"aren't\": \"are not\",\"can't\": \"cannot\", \"'cause\": \"because\", \"could've\": \"could have\", \"couldn't\": \"could not\",\n",
        "                           \"didn't\": \"did not\",  \"doesn't\": \"does not\", \"don't\": \"do not\", \"hadn't\": \"had not\", \"hasn't\": \"has not\", \"haven't\": \"have not\",\n",
        "                           \"he'd\": \"he would\",\"he'll\": \"he will\", \"he's\": \"he is\", \"how'd\": \"how did\", \"how'd'y\": \"how do you\", \"how'll\": \"how will\", \"how's\": \"how is\",\n",
        "                           \"I'd\": \"I would\", \"I'd've\": \"I would have\", \"I'll\": \"I will\", \"I'll've\": \"I will have\",\"I'm\": \"I am\", \"I've\": \"I have\", \"i'd\": \"i would\",\n",
        "                           \"i'd've\": \"i would have\", \"i'll\": \"i will\",  \"i'll've\": \"i will have\",\"i'm\": \"i am\", \"i've\": \"i have\", \"isn't\": \"is not\", \"it'd\": \"it would\",\n",
        "                           \"it'd've\": \"it would have\", \"it'll\": \"it will\", \"it'll've\": \"it will have\",\"it's\": \"it is\", \"let's\": \"let us\", \"ma'am\": \"madam\",\n",
        "                           \"mayn't\": \"may not\", \"might've\": \"might have\",\"mightn't\": \"might not\",\"mightn't've\": \"might not have\", \"must've\": \"must have\",\n",
        "                           \"mustn't\": \"must not\", \"mustn't've\": \"must not have\", \"needn't\": \"need not\", \"needn't've\": \"need not have\",\"o'clock\": \"of the clock\",\n",
        "                           \"oughtn't\": \"ought not\", \"oughtn't've\": \"ought not have\", \"shan't\": \"shall not\", \"sha'n't\": \"shall not\", \"shan't've\": \"shall not have\",\n",
        "                           \"she'd\": \"she would\", \"she'd've\": \"she would have\", \"she'll\": \"she will\", \"she'll've\": \"she will have\", \"she's\": \"she is\",\n",
        "                           \"should've\": \"should have\", \"shouldn't\": \"should not\", \"shouldn't've\": \"should not have\", \"so've\": \"so have\",\"so's\": \"so as\",\n",
        "                           \"this's\": \"this is\",\"that'd\": \"that would\", \"that'd've\": \"that would have\", \"that's\": \"that is\", \"there'd\": \"there would\",\n",
        "                           \"there'd've\": \"there would have\", \"there's\": \"there is\", \"here's\": \"here is\",\"they'd\": \"they would\", \"they'd've\": \"they would have\",\n",
        "                           \"they'll\": \"they will\", \"they'll've\": \"they will have\", \"they're\": \"they are\", \"they've\": \"they have\", \"to've\": \"to have\",\n",
        "                           \"wasn't\": \"was not\", \"we'd\": \"we would\", \"we'd've\": \"we would have\", \"we'll\": \"we will\", \"we'll've\": \"we will have\", \"we're\": \"we are\",\n",
        "                           \"we've\": \"we have\", \"weren't\": \"were not\", \"what'll\": \"what will\", \"what'll've\": \"what will have\", \"what're\": \"what are\",\n",
        "                           \"what's\": \"what is\", \"what've\": \"what have\", \"when's\": \"when is\", \"when've\": \"when have\", \"where'd\": \"where did\", \"where's\": \"where is\",\n",
        "                           \"where've\": \"where have\", \"who'll\": \"who will\", \"who'll've\": \"who will have\", \"who's\": \"who is\", \"who've\": \"who have\",\n",
        "                           \"why's\": \"why is\", \"why've\": \"why have\", \"will've\": \"will have\", \"won't\": \"will not\", \"won't've\": \"will not have\",\n",
        "                           \"would've\": \"would have\", \"wouldn't\": \"would not\", \"wouldn't've\": \"would not have\", \"y'all\": \"you all\",\n",
        "                           \"y'all'd\": \"you all would\",\"y'all'd've\": \"you all would have\",\"y'all're\": \"you all are\",\"y'all've\": \"you all have\",\n",
        "                           \"you'd\": \"you would\", \"you'd've\": \"you would have\", \"you'll\": \"you will\", \"you'll've\": \"you will have\",\n",
        "                           \"you're\": \"you are\", \"you've\": \"you have\"}"
      ],
      "execution_count": null,
      "outputs": []
    },
    {
      "cell_type": "code",
      "metadata": {
        "id": "pyGWbW4_mf-M"
      },
      "source": [
        "stop_words = set(stopwords.words('english'))"
      ],
      "execution_count": null,
      "outputs": []
    },
    {
      "cell_type": "markdown",
      "metadata": {
        "id": "LYGSeBuD0UJB"
      },
      "source": [
        "Function for cleaning reviews and summaries\n",
        "\n"
      ]
    },
    {
      "cell_type": "code",
      "metadata": {
        "id": "rqqVcOONmj9r"
      },
      "source": [
        "def text_cleaner(text,num):\n",
        "    newString = text.lower()\n",
        "    newString = BeautifulSoup(newString, \"lxml\").text\n",
        "    newString = re.sub(r'\\([^)]*\\)', '', newString)\n",
        "    newString = re.sub('\"','', newString)\n",
        "    newString = ' '.join([contraction_mapping[t] if t in contraction_mapping else t for t in newString.split(\" \")])    \n",
        "    newString = re.sub(r\"'s\\b\",\"\",newString)\n",
        "    newString = re.sub(\"[^a-zA-Z]\", \" \", newString) \n",
        "    newString = re.sub('[m]{2,}', 'mm', newString)\n",
        "    if(num==0):\n",
        "        tokens = [w for w in newString.split() if not w in stop_words]\n",
        "    else:\n",
        "        tokens=newString.split()\n",
        "    long_words=[]\n",
        "    for i in tokens:\n",
        "        if len(i)>1:                                                 #removing short word\n",
        "            long_words.append(i)   \n",
        "    return (\" \".join(long_words)).strip()\n"
      ],
      "execution_count": null,
      "outputs": []
    },
    {
      "cell_type": "code",
      "metadata": {
        "id": "oanknGpCmoZz",
        "outputId": "85a66500-efc0-41ff-aa7b-3f69411456cf",
        "colab": {
          "base_uri": "https://localhost:8080/"
        }
      },
      "source": [
        "cleaned_text = []\n",
        "for t in data['Text']:\n",
        "    cleaned_text.append(text_cleaner(t,0))\n",
        "cleaned_text[:5] "
      ],
      "execution_count": null,
      "outputs": [
        {
          "output_type": "execute_result",
          "data": {
            "text/plain": [
              "['bought several vitality canned dog food products found good quality product looks like stew processed meat smells better labrador finicky appreciates product better',\n",
              " 'product arrived labeled jumbo salted peanuts peanuts actually small sized unsalted sure error vendor intended represent product jumbo',\n",
              " 'confection around centuries light pillowy citrus gelatin nuts case filberts cut tiny squares liberally coated powdered sugar tiny mouthful heaven chewy flavorful highly recommend yummy treat familiar story lewis lion witch wardrobe treat seduces edmund selling brother sisters witch',\n",
              " 'looking secret ingredient robitussin believe found got addition root beer extract ordered made cherry soda flavor medicinal',\n",
              " 'great taffy great price wide assortment yummy taffy delivery quick taffy lover deal']"
            ]
          },
          "metadata": {
            "tags": []
          },
          "execution_count": 59
        }
      ]
    },
    {
      "cell_type": "code",
      "metadata": {
        "id": "F1MCeRHSmzAi"
      },
      "source": [
        "def summary_cleaner(text):\n",
        "    newString = re.sub('\"','', text)\n",
        "    newString = ' '.join([contraction_mapping[t] if t in contraction_mapping else t for t in newString.split(\" \")])    \n",
        "    newString = re.sub(r\"'s\\b\",\"\",newString)\n",
        "    newString = re.sub(\"[^a-zA-Z]\", \" \", newString)\n",
        "    newString = newString.lower()\n",
        "    tokens=newString.split()\n",
        "    newString=''\n",
        "    for i in tokens:\n",
        "        if len(i)>1:                                 \n",
        "            newString=newString+i+' '  \n",
        "    return newString"
      ],
      "execution_count": null,
      "outputs": []
    },
    {
      "cell_type": "code",
      "metadata": {
        "id": "NgakIypvm3ZO"
      },
      "source": [
        "cleaned_summary = []\n",
        "for t in data['Summary']:\n",
        "    cleaned_summary.append(summary_cleaner(t))"
      ],
      "execution_count": null,
      "outputs": []
    },
    {
      "cell_type": "code",
      "metadata": {
        "id": "7AuGBHgIoZNt"
      },
      "source": [
        "\n",
        "data['cleaned_text']=cleaned_text\n",
        "data['cleaned_summary']=cleaned_summary\n",
        "data['cleaned_summary'].replace('', np.nan, inplace=True)\n",
        "data.dropna(axis=0,inplace=True)"
      ],
      "execution_count": null,
      "outputs": []
    },
    {
      "cell_type": "markdown",
      "metadata": {
        "id": "7pWd_WCd0etL"
      },
      "source": [
        "Visualization distribution of reviews and summaries"
      ]
    },
    {
      "cell_type": "code",
      "metadata": {
        "id": "oRbKxbObocuS",
        "outputId": "eeba1f00-65ad-4d72-b9f4-4cd721eb3b33",
        "colab": {
          "base_uri": "https://localhost:8080/",
          "height": 281
        }
      },
      "source": [
        "import matplotlib.pyplot as plt\n",
        "\n",
        "text_word_count = []\n",
        "summary_word_count = []\n",
        "\n",
        "# populate the lists with sentence lengths\n",
        "for i in data['cleaned_text']:\n",
        "      text_word_count.append(len(i.split()))\n",
        "\n",
        "for i in data['cleaned_summary']:\n",
        "      summary_word_count.append(len(i.split()))\n",
        "\n",
        "length_df = pd.DataFrame({'text':text_word_count, 'summary':summary_word_count})\n",
        "\n",
        "length_df.hist(bins = 30)\n",
        "plt.show()"
      ],
      "execution_count": null,
      "outputs": [
        {
          "output_type": "display_data",
          "data": {
            "image/png": "[encoded data removed]",
            "text/plain": [
              "<Figure size 432x288 with 2 Axes>"
            ]
          },
          "metadata": {
            "tags": [],
            "needs_background": "light"
          }
        }
      ]
    },
    {
      "cell_type": "code",
      "metadata": {
        "id": "gcJ80G4Softk",
        "outputId": "b8c9115e-4092-4103-cedc-1d2821a9ac4b",
        "colab": {
          "base_uri": "https://localhost:8080/"
        }
      },
      "source": [
        "\n",
        "cnt=0\n",
        "for i in data['cleaned_summary']:\n",
        "    if(len(i.split())<=10):\n",
        "        cnt=cnt+1\n",
        "print(cnt/len(data['cleaned_summary']))"
      ],
      "execution_count": null,
      "outputs": [
        {
          "output_type": "stream",
          "text": [
            "0.9798943090671427\n"
          ],
          "name": "stdout"
        }
      ]
    },
    {
      "cell_type": "code",
      "metadata": {
        "id": "Jm0-IsbVokDb",
        "outputId": "39dc0925-9f04-47f5-f719-b65ff364ccf7",
        "colab": {
          "base_uri": "https://localhost:8080/"
        }
      },
      "source": [
        "cnt=0\n",
        "for i in data['cleaned_text']:\n",
        "    if(len(i.split())<=80):\n",
        "        cnt=cnt+1\n",
        "print(cnt/len(data['cleaned_text']))"
      ],
      "execution_count": null,
      "outputs": [
        {
          "output_type": "stream",
          "text": [
            "0.9130313156435804\n"
          ],
          "name": "stdout"
        }
      ]
    },
    {
      "cell_type": "code",
      "metadata": {
        "id": "jM4N9ceqUuwA"
      },
      "source": [
        "max_text_len=80\n",
        "max_summary_len=10"
      ],
      "execution_count": null,
      "outputs": []
    },
    {
      "cell_type": "markdown",
      "metadata": {
        "id": "orjVkD1F0vVa"
      },
      "source": [
        "getting rid of outliers"
      ]
    },
    {
      "cell_type": "code",
      "metadata": {
        "id": "85B9_-piUY7a"
      },
      "source": [
        "cleaned_text =np.array(data['cleaned_text'])\n",
        "cleaned_summary=np.array(data['cleaned_summary'])\n",
        "\n",
        "short_text=[]\n",
        "short_summary=[]\n",
        "\n",
        "for i in range(len(cleaned_text)):\n",
        "    if(len(cleaned_summary[i].split())<=max_summary_len and len(cleaned_text[i].split())<=max_text_len):\n",
        "        short_text.append(cleaned_text[i])\n",
        "        short_summary.append(cleaned_summary[i])\n",
        "        \n",
        "df=pd.DataFrame({'text':short_text,'summary':short_summary})\n"
      ],
      "execution_count": null,
      "outputs": []
    },
    {
      "cell_type": "markdown",
      "metadata": {
        "id": "HhDtjX241BYR"
      },
      "source": [
        "Adding tokens at the beginning and the end of summary"
      ]
    },
    {
      "cell_type": "code",
      "metadata": {
        "id": "YzSwLGPUol8i"
      },
      "source": [
        "df['summary'] = df['summary'].apply(lambda x : 'sostok '+ x + ' eostok')"
      ],
      "execution_count": null,
      "outputs": []
    },
    {
      "cell_type": "code",
      "metadata": {
        "id": "GKpY-KBNon3G",
        "outputId": "495fb6a5-8e3e-4448-9511-57e009614b66",
        "colab": {
          "base_uri": "https://localhost:8080/"
        }
      },
      "source": [
        "for i in range(5):\n",
        "    print(\"Review:\",df['text'][i])\n",
        "    print(\"Summary:\",df['summary'][i])\n",
        "    print(\"\\n\")"
      ],
      "execution_count": null,
      "outputs": [
        {
          "output_type": "stream",
          "text": [
            "Review: bought several vitality canned dog food products found good quality product looks like stew processed meat smells better labrador finicky appreciates product better\n",
            "Summary: sostok good quality dog food  eostok\n",
            "\n",
            "\n",
            "Review: product arrived labeled jumbo salted peanuts peanuts actually small sized unsalted sure error vendor intended represent product jumbo\n",
            "Summary: sostok not as advertised  eostok\n",
            "\n",
            "\n",
            "Review: confection around centuries light pillowy citrus gelatin nuts case filberts cut tiny squares liberally coated powdered sugar tiny mouthful heaven chewy flavorful highly recommend yummy treat familiar story lewis lion witch wardrobe treat seduces edmund selling brother sisters witch\n",
            "Summary: sostok delight says it all  eostok\n",
            "\n",
            "\n",
            "Review: looking secret ingredient robitussin believe found got addition root beer extract ordered made cherry soda flavor medicinal\n",
            "Summary: sostok cough medicine  eostok\n",
            "\n",
            "\n",
            "Review: great taffy great price wide assortment yummy taffy delivery quick taffy lover deal\n",
            "Summary: sostok great taffy  eostok\n",
            "\n",
            "\n"
          ],
          "name": "stdout"
        }
      ]
    },
    {
      "cell_type": "markdown",
      "metadata": {
        "id": "IFj34hyR1LNJ"
      },
      "source": [
        "splitting traing and test set"
      ]
    },
    {
      "cell_type": "code",
      "metadata": {
        "id": "yGPxXgjvoqMc"
      },
      "source": [
        "from sklearn.model_selection import train_test_split\n",
        "x_tr,x_val,y_tr,y_val=train_test_split(np.array(df['text']),np.array(df['summary']),test_size=0.05,random_state=0,shuffle=True) "
      ],
      "execution_count": null,
      "outputs": []
    },
    {
      "cell_type": "markdown",
      "metadata": {
        "id": "ZT8BZj6d14H1"
      },
      "source": [
        "prepare a tokenizer for reviews on training data"
      ]
    },
    {
      "cell_type": "code",
      "metadata": {
        "id": "KWcRhv6xoyis"
      },
      "source": [
        "x_tokenizer = Tokenizer() \n",
        "x_tokenizer.fit_on_texts(list(x_tr))"
      ],
      "execution_count": null,
      "outputs": []
    },
    {
      "cell_type": "markdown",
      "metadata": {
        "id": "IR36MEjA16Xy"
      },
      "source": [
        "calculating number of rare and common words in reviews"
      ]
    },
    {
      "cell_type": "code",
      "metadata": {
        "id": "RRIAf80uo0in",
        "outputId": "b48c8e31-d7e1-43c4-d894-cd0cd7419155",
        "colab": {
          "base_uri": "https://localhost:8080/"
        }
      },
      "source": [
        "thresh=4\n",
        "\n",
        "cnt=0\n",
        "tot_cnt=0\n",
        "freq=0\n",
        "tot_freq=0\n",
        "\n",
        "for key,value in x_tokenizer.word_counts.items():\n",
        "    tot_cnt=tot_cnt+1\n",
        "    tot_freq=tot_freq+value\n",
        "    if(value<thresh):\n",
        "        cnt=cnt+1\n",
        "        freq=freq+value\n",
        "    \n",
        "print(\"% of rare words in vocabulary:\",(cnt/tot_cnt)*100)\n",
        "print(\"Total Coverage of rare words:\",(freq/tot_freq)*100)"
      ],
      "execution_count": null,
      "outputs": [
        {
          "output_type": "stream",
          "text": [
            "% of rare words in vocabulary: 67.94102047310916\n",
            "Total Coverage of rare words: 0.8616722801805681\n"
          ],
          "name": "stdout"
        }
      ]
    },
    {
      "cell_type": "markdown",
      "metadata": {
        "id": "nc1XUMwj9Rgg"
      },
      "source": [
        "defining tokenizer with most common words for reviews"
      ]
    },
    {
      "cell_type": "code",
      "metadata": {
        "id": "x9-KfAILVlnT"
      },
      "source": [
        "#prepare a tokenizer for reviews on training data\n",
        "x_tokenizer = Tokenizer(num_words=tot_cnt-cnt) \n",
        "x_tokenizer.fit_on_texts(list(x_tr))\n",
        "\n",
        "#convert text sequences into integer sequences\n",
        "x_tr_seq    =   x_tokenizer.texts_to_sequences(x_tr) \n",
        "x_val_seq   =   x_tokenizer.texts_to_sequences(x_val)\n",
        "\n",
        "#padding zero upto maximum length\n",
        "x_tr    =   pad_sequences(x_tr_seq,  maxlen=max_text_len, padding='post')\n",
        "x_val   =   pad_sequences(x_val_seq, maxlen=max_text_len, padding='post')\n",
        "\n",
        "#size of vocabulary ( +1 for padding token)\n",
        "x_voc   =  x_tokenizer.num_words + 1"
      ],
      "execution_count": null,
      "outputs": []
    },
    {
      "cell_type": "markdown",
      "metadata": {
        "id": "_BgZtOQU9cM-"
      },
      "source": [
        "prepare a tokenizer for summaries on training data"
      ]
    },
    {
      "cell_type": "code",
      "metadata": {
        "id": "aAXMUN3kVnxS"
      },
      "source": [
        "y_tokenizer = Tokenizer()\n",
        "y_tokenizer.fit_on_texts(list(y_tr))"
      ],
      "execution_count": null,
      "outputs": []
    },
    {
      "cell_type": "markdown",
      "metadata": {
        "id": "4oBMJDX59pBN"
      },
      "source": [
        "calculating number of rare and common words in summaries"
      ]
    },
    {
      "cell_type": "code",
      "metadata": {
        "id": "wLO6RmHkVtBs",
        "outputId": "02184ee4-c9eb-4f1d-f722-3058a2b8d342",
        "colab": {
          "base_uri": "https://localhost:8080/"
        }
      },
      "source": [
        "thresh=6\n",
        "\n",
        "cnt=0\n",
        "tot_cnt=0\n",
        "freq=0\n",
        "tot_freq=0\n",
        "\n",
        "for key,value in y_tokenizer.word_counts.items():\n",
        "    tot_cnt=tot_cnt+1\n",
        "    tot_freq=tot_freq+value\n",
        "    if(value<thresh):\n",
        "        cnt=cnt+1\n",
        "        freq=freq+value\n",
        "    \n",
        "print(\"% of rare words in vocabulary:\",(cnt/tot_cnt)*100)\n",
        "print(\"Total Coverage of rare words:\",(freq/tot_freq)*100)"
      ],
      "execution_count": null,
      "outputs": [
        {
          "output_type": "stream",
          "text": [
            "% of rare words in vocabulary: 74.61241645421346\n",
            "Total Coverage of rare words: 1.8831536914193734\n"
          ],
          "name": "stdout"
        }
      ]
    },
    {
      "cell_type": "markdown",
      "metadata": {
        "id": "4UHmMz2w9rsS"
      },
      "source": [
        "defining tokenizer with most common words for summaries"
      ]
    },
    {
      "cell_type": "code",
      "metadata": {
        "id": "g_fIWpEzVx-e"
      },
      "source": [
        "#prepare a tokenizer for summaries on training data\n",
        "y_tokenizer = Tokenizer(num_words=tot_cnt-cnt) \n",
        "y_tokenizer.fit_on_texts(list(y_tr))\n",
        "\n",
        "#convert text sequences into integer sequences\n",
        "y_tr_seq    =   y_tokenizer.texts_to_sequences(y_tr) \n",
        "y_val_seq   =   y_tokenizer.texts_to_sequences(y_val) \n",
        "\n",
        "#padding zero upto maximum length\n",
        "y_tr    =   pad_sequences(y_tr_seq, maxlen=max_summary_len, padding='post')\n",
        "y_val   =   pad_sequences(y_val_seq, maxlen=max_summary_len, padding='post')\n",
        "\n",
        "#size of vocabulary\n",
        "y_voc  =   y_tokenizer.num_words +1"
      ],
      "execution_count": null,
      "outputs": []
    },
    {
      "cell_type": "markdown",
      "metadata": {
        "id": "Y9TPsPPr9x59"
      },
      "source": [
        "checking word count of start token is equal to length of the training data"
      ]
    },
    {
      "cell_type": "code",
      "metadata": {
        "id": "YQCNUc_NV8bB",
        "outputId": "a5a3b600-419b-40e8-fd55-554ee7f55f81",
        "colab": {
          "base_uri": "https://localhost:8080/"
        }
      },
      "source": [
        "y_tokenizer.word_counts['sostok'],len(y_tr)"
      ],
      "execution_count": null,
      "outputs": [
        {
          "output_type": "execute_result",
          "data": {
            "text/plain": [
              "(335827, 335827)"
            ]
          },
          "metadata": {
            "tags": []
          },
          "execution_count": 80
        }
      ]
    },
    {
      "cell_type": "markdown",
      "metadata": {
        "id": "rCtOvxdR9-ci"
      },
      "source": [
        "deleting the rows that contain only START and END tokens"
      ]
    },
    {
      "cell_type": "code",
      "metadata": {
        "id": "YIt9Q_jkV_Hx"
      },
      "source": [
        "ind=[]\n",
        "for i in range(len(y_tr)):\n",
        "    cnt=0\n",
        "    for j in y_tr[i]:\n",
        "        if j!=0:\n",
        "            cnt=cnt+1\n",
        "    if(cnt==2):\n",
        "        ind.append(i)\n",
        "\n",
        "y_tr=np.delete(y_tr,ind, axis=0)\n",
        "x_tr=np.delete(x_tr,ind, axis=0)"
      ],
      "execution_count": null,
      "outputs": []
    },
    {
      "cell_type": "code",
      "metadata": {
        "id": "GrdoxUN5WEUG"
      },
      "source": [
        "ind=[]\n",
        "for i in range(len(y_val)):\n",
        "    cnt=0\n",
        "    for j in y_val[i]:\n",
        "        if j!=0:\n",
        "            cnt=cnt+1\n",
        "    if(cnt==2):\n",
        "        ind.append(i)\n",
        "\n",
        "y_val=np.delete(y_val,ind, axis=0)\n",
        "x_val=np.delete(x_val,ind, axis=0)"
      ],
      "execution_count": null,
      "outputs": []
    },
    {
      "cell_type": "markdown",
      "metadata": {
        "id": "muzFxMfP-Cop"
      },
      "source": [
        "Model building, defining LSTM layers, Encoder and Decoder"
      ]
    },
    {
      "cell_type": "code",
      "metadata": {
        "id": "Z6vol6M7XUYy",
        "outputId": "ff484427-8fb6-4f51-b22a-17b98cfd3f10",
        "colab": {
          "base_uri": "https://localhost:8080/"
        }
      },
      "source": [
        "from keras import backend as K \n",
        "K.clear_session()\n",
        "\n",
        "latent_dim = 300\n",
        "embedding_dim=100\n",
        "\n",
        "# Encoder\n",
        "encoder_inputs = Input(shape=(max_text_len,))\n",
        "\n",
        "#embedding layer\n",
        "enc_emb =  Embedding(x_voc, embedding_dim,trainable=True)(encoder_inputs)\n",
        "\n",
        "#encoder lstm 1\n",
        "encoder_lstm1 = LSTM(latent_dim,return_sequences=True,return_state=True,dropout=0.4,recurrent_dropout=0.4)\n",
        "encoder_output1, state_h1, state_c1 = encoder_lstm1(enc_emb)\n",
        "\n",
        "#encoder lstm 2\n",
        "encoder_lstm2 = LSTM(latent_dim,return_sequences=True,return_state=True,dropout=0.4,recurrent_dropout=0.4)\n",
        "encoder_output2, state_h2, state_c2 = encoder_lstm2(encoder_output1)\n",
        "\n",
        "#encoder lstm 3\n",
        "encoder_lstm3=LSTM(latent_dim, return_state=True, return_sequences=True,dropout=0.4,recurrent_dropout=0.4)\n",
        "encoder_outputs, state_h, state_c= encoder_lstm3(encoder_output2)\n",
        "\n",
        "# Set up the decoder, using `encoder_states` as initial state.\n",
        "decoder_inputs = Input(shape=(None,))\n",
        "\n",
        "#embedding layer\n",
        "dec_emb_layer = Embedding(y_voc, embedding_dim,trainable=True)\n",
        "dec_emb = dec_emb_layer(decoder_inputs)\n",
        "\n",
        "decoder_lstm = LSTM(latent_dim, return_sequences=True, return_state=True,dropout=0.4,recurrent_dropout=0.2)\n",
        "decoder_outputs,decoder_fwd_state, decoder_back_state = decoder_lstm(dec_emb,initial_state=[state_h, state_c])\n",
        "\n",
        "# Attention layer\n",
        "attn_layer = AttentionLayer(name='attention_layer')\n",
        "attn_out, attn_states = attn_layer([encoder_outputs, decoder_outputs])\n",
        "\n",
        "# Concat attention input and decoder LSTM output\n",
        "decoder_concat_input = Concatenate(axis=-1, name='concat_layer')([decoder_outputs, attn_out])\n",
        "\n",
        "#dense layer\n",
        "decoder_dense =  TimeDistributed(Dense(y_voc, activation='softmax'))\n",
        "decoder_outputs = decoder_dense(decoder_concat_input)\n",
        "\n",
        "# Define the model \n",
        "model = Model([encoder_inputs, decoder_inputs], decoder_outputs)\n",
        "\n",
        "model.summary() "
      ],
      "execution_count": null,
      "outputs": [
        {
          "output_type": "stream",
          "text": [
            "WARNING:tensorflow:Layer lstm will not use cuDNN kernel since it doesn't meet the cuDNN kernel criteria. It will use generic GPU kernel as fallback when running on GPU\n",
            "WARNING:tensorflow:Layer lstm_1 will not use cuDNN kernel since it doesn't meet the cuDNN kernel criteria. It will use generic GPU kernel as fallback when running on GPU\n",
            "WARNING:tensorflow:Layer lstm_2 will not use cuDNN kernel since it doesn't meet the cuDNN kernel criteria. It will use generic GPU kernel as fallback when running on GPU\n",
            "WARNING:tensorflow:Layer lstm_3 will not use cuDNN kernel since it doesn't meet the cuDNN kernel criteria. It will use generic GPU kernel as fallback when running on GPU\n",
            "Model: \"functional_1\"\n",
            "__________________________________________________________________________________________________\n",
            "Layer (type)                    Output Shape         Param #     Connected to                     \n",
            "==================================================================================================\n",
            "input_1 (InputLayer)            [(None, 80)]         0                                            \n",
            "__________________________________________________________________________________________________\n",
            "embedding (Embedding)           (None, 80, 100)      3022300     input_1[0][0]                    \n",
            "__________________________________________________________________________________________________\n",
            "lstm (LSTM)                     [(None, 80, 300), (N 481200      embedding[0][0]                  \n",
            "__________________________________________________________________________________________________\n",
            "input_2 (InputLayer)            [(None, None)]       0                                            \n",
            "__________________________________________________________________________________________________\n",
            "lstm_1 (LSTM)                   [(None, 80, 300), (N 721200      lstm[0][0]                       \n",
            "__________________________________________________________________________________________________\n",
            "embedding_1 (Embedding)         (None, None, 100)    737000      input_2[0][0]                    \n",
            "__________________________________________________________________________________________________\n",
            "lstm_2 (LSTM)                   [(None, 80, 300), (N 721200      lstm_1[0][0]                     \n",
            "__________________________________________________________________________________________________\n",
            "lstm_3 (LSTM)                   [(None, None, 300),  481200      embedding_1[0][0]                \n",
            "                                                                 lstm_2[0][1]                     \n",
            "                                                                 lstm_2[0][2]                     \n",
            "__________________________________________________________________________________________________\n",
            "attention_layer (AttentionLayer ((None, None, 300),  180300      lstm_2[0][0]                     \n",
            "                                                                 lstm_3[0][0]                     \n",
            "__________________________________________________________________________________________________\n",
            "concat_layer (Concatenate)      (None, None, 600)    0           lstm_3[0][0]                     \n",
            "                                                                 attention_layer[0][0]            \n",
            "__________________________________________________________________________________________________\n",
            "time_distributed (TimeDistribut (None, None, 7370)   4429370     concat_layer[0][0]               \n",
            "==================================================================================================\n",
            "Total params: 10,773,770\n",
            "Trainable params: 10,773,770\n",
            "Non-trainable params: 0\n",
            "__________________________________________________________________________________________________\n"
          ],
          "name": "stdout"
        }
      ]
    },
    {
      "cell_type": "code",
      "metadata": {
        "id": "9JGKS8q-o_an"
      },
      "source": [
        "model.compile(optimizer='adam', loss='sparse_categorical_crossentropy')"
      ],
      "execution_count": null,
      "outputs": []
    },
    {
      "cell_type": "markdown",
      "metadata": {
        "id": "SD0qxi6X-Ijq"
      },
      "source": [
        "monitoring the validation loss"
      ]
    },
    {
      "cell_type": "code",
      "metadata": {
        "id": "sVqtFdQvpCij"
      },
      "source": [
        "es = [EarlyStopping(monitor='val_loss', mode='min', verbose=1,patience=2), \n",
        "      ModelCheckpoint('./MyModel_tf',monitor='val_loss', verbose=1,\n",
        "                      save_best_only=True, mode='min', save_weights_only = False)]"
      ],
      "execution_count": null,
      "outputs": []
    },
    {
      "cell_type": "markdown",
      "metadata": {
        "id": "VNlY0VEK-c5y"
      },
      "source": [
        "train the model on a batch size of 512 and validate it on the 10% of dataset"
      ]
    },
    {
      "cell_type": "code",
      "metadata": {
        "id": "75NN4U8ypEFr",
        "outputId": "47b3f9cd-4516-4e61-9f39-8fb4252bf418",
        "colab": {
          "base_uri": "https://localhost:8080/"
        }
      },
      "source": [
        "history=model.fit([x_tr,y_tr[:,:-1]], y_tr.reshape(y_tr.shape[0],y_tr.shape[1], 1)[:,1:] ,epochs=50,callbacks=[es],batch_size=512, validation_data=([x_val,y_val[:,:-1]], y_val.reshape(y_val.shape[0],y_val.shape[1], 1)[:,1:]))"
      ],
      "execution_count": null,
      "outputs": [
        {
          "output_type": "stream",
          "text": [
            "Epoch 1/50\n",
            "650/650 [==============================] - ETA: 0s - loss: 2.7267\n",
            "Epoch 00001: val_loss improved from inf to 2.41364, saving model to ./MyModel_tf\n",
            "WARNING:tensorflow:From /usr/local/lib/python3.6/dist-packages/tensorflow/python/training/tracking/tracking.py:111: Model.state_updates (from tensorflow.python.keras.engine.training) is deprecated and will be removed in a future version.\n",
            "Instructions for updating:\n",
            "This property should not be used in TensorFlow 2.0, as updates are applied automatically.\n",
            "WARNING:tensorflow:From /usr/local/lib/python3.6/dist-packages/tensorflow/python/training/tracking/tracking.py:111: Layer.updates (from tensorflow.python.keras.engine.base_layer) is deprecated and will be removed in a future version.\n",
            "Instructions for updating:\n",
            "This property should not be used in TensorFlow 2.0, as updates are applied automatically.\n",
            "INFO:tensorflow:Assets written to: ./MyModel_tf/assets\n",
            "650/650 [==============================] - 789s 1s/step - loss: 2.7267 - val_loss: 2.4136\n",
            "Epoch 2/50\n",
            "650/650 [==============================] - ETA: 0s - loss: 2.2869\n",
            "Epoch 00002: val_loss improved from 2.41364 to 2.14017, saving model to ./MyModel_tf\n",
            "INFO:tensorflow:Assets written to: ./MyModel_tf/assets\n",
            "650/650 [==============================] - 781s 1s/step - loss: 2.2869 - val_loss: 2.1402\n",
            "Epoch 3/50\n",
            "650/650 [==============================] - ETA: 0s - loss: 2.0925\n",
            "Epoch 00003: val_loss improved from 2.14017 to 2.00034, saving model to ./MyModel_tf\n",
            "INFO:tensorflow:Assets written to: ./MyModel_tf/assets\n",
            "650/650 [==============================] - 787s 1s/step - loss: 2.0925 - val_loss: 2.0003\n",
            "Epoch 4/50\n",
            "650/650 [==============================] - ETA: 0s - loss: 1.9584\n",
            "Epoch 00004: val_loss improved from 2.00034 to 1.91154, saving model to ./MyModel_tf\n",
            "INFO:tensorflow:Assets written to: ./MyModel_tf/assets\n",
            "650/650 [==============================] - 787s 1s/step - loss: 1.9584 - val_loss: 1.9115\n",
            "Epoch 5/50\n",
            "650/650 [==============================] - ETA: 0s - loss: 1.8657\n",
            "Epoch 00005: val_loss improved from 1.91154 to 1.85894, saving model to ./MyModel_tf\n",
            "INFO:tensorflow:Assets written to: ./MyModel_tf/assets\n",
            "650/650 [==============================] - 793s 1s/step - loss: 1.8657 - val_loss: 1.8589\n",
            "Epoch 6/50\n",
            "650/650 [==============================] - ETA: 0s - loss: 1.7955\n",
            "Epoch 00006: val_loss improved from 1.85894 to 1.82500, saving model to ./MyModel_tf\n",
            "INFO:tensorflow:Assets written to: ./MyModel_tf/assets\n",
            "650/650 [==============================] - 801s 1s/step - loss: 1.7955 - val_loss: 1.8250\n",
            "Epoch 7/50\n",
            "650/650 [==============================] - ETA: 0s - loss: 1.7382\n",
            "Epoch 00007: val_loss improved from 1.82500 to 1.79946, saving model to ./MyModel_tf\n",
            "INFO:tensorflow:Assets written to: ./MyModel_tf/assets\n",
            "650/650 [==============================] - 809s 1s/step - loss: 1.7382 - val_loss: 1.7995\n",
            "Epoch 8/50\n",
            "650/650 [==============================] - ETA: 0s - loss: 1.6898\n",
            "Epoch 00008: val_loss improved from 1.79946 to 1.78354, saving model to ./MyModel_tf\n",
            "INFO:tensorflow:Assets written to: ./MyModel_tf/assets\n",
            "650/650 [==============================] - 827s 1s/step - loss: 1.6898 - val_loss: 1.7835\n",
            "Epoch 9/50\n",
            "650/650 [==============================] - ETA: 0s - loss: 1.6476\n",
            "Epoch 00009: val_loss improved from 1.78354 to 1.77413, saving model to ./MyModel_tf\n",
            "INFO:tensorflow:Assets written to: ./MyModel_tf/assets\n",
            "650/650 [==============================] - 825s 1s/step - loss: 1.6476 - val_loss: 1.7741\n",
            "Epoch 10/50\n",
            "650/650 [==============================] - ETA: 0s - loss: 1.6109\n",
            "Epoch 00010: val_loss improved from 1.77413 to 1.76819, saving model to ./MyModel_tf\n",
            "INFO:tensorflow:Assets written to: ./MyModel_tf/assets\n",
            "650/650 [==============================] - 812s 1s/step - loss: 1.6109 - val_loss: 1.7682\n",
            "Epoch 11/50\n",
            "650/650 [==============================] - ETA: 0s - loss: 1.5770\n",
            "Epoch 00011: val_loss improved from 1.76819 to 1.76508, saving model to ./MyModel_tf\n",
            "INFO:tensorflow:Assets written to: ./MyModel_tf/assets\n",
            "650/650 [==============================] - 829s 1s/step - loss: 1.5770 - val_loss: 1.7651\n",
            "Epoch 12/50\n",
            "650/650 [==============================] - ETA: 0s - loss: 1.5472\n",
            "Epoch 00012: val_loss did not improve from 1.76508\n",
            "650/650 [==============================] - 806s 1s/step - loss: 1.5472 - val_loss: 1.7664\n",
            "Epoch 13/50\n",
            "650/650 [==============================] - ETA: 0s - loss: 1.5199\n",
            "Epoch 00013: val_loss did not improve from 1.76508\n",
            "650/650 [==============================] - 769s 1s/step - loss: 1.5199 - val_loss: 1.7664\n",
            "Epoch 00013: early stopping\n"
          ],
          "name": "stdout"
        }
      ]
    },
    {
      "cell_type": "markdown",
      "metadata": {
        "id": "2Py9Vgc--uYy"
      },
      "source": [
        "understanding the behavior of model over time\n"
      ]
    },
    {
      "cell_type": "code",
      "metadata": {
        "id": "E4vyf_ajpFuj",
        "outputId": "af9ecda1-c27f-47a5-9119-d14d6901c9e1",
        "colab": {
          "base_uri": "https://localhost:8080/",
          "height": 265
        }
      },
      "source": [
        "from matplotlib import pyplot \n",
        "pyplot.plot(history.history['loss'], label='train') \n",
        "pyplot.plot(history.history['val_loss'], label='test') \n",
        "pyplot.legend() \n",
        "pyplot.show()"
      ],
      "execution_count": null,
      "outputs": [
        {
          "output_type": "display_data",
          "data": {
            "image/png": "[encoded data removed]",
            "text/plain": [
              "<Figure size 432x288 with 1 Axes>"
            ]
          },
          "metadata": {
            "tags": [],
            "needs_background": "light"
          }
        }
      ]
    },
    {
      "cell_type": "markdown",
      "metadata": {
        "id": "rwlPdLdZ-59C"
      },
      "source": [
        "convert the index to word for summaries and reviews vocabulary"
      ]
    },
    {
      "cell_type": "code",
      "metadata": {
        "id": "Ia58_BBPP7N6"
      },
      "source": [
        "reverse_target_word_index=y_tokenizer.index_word\n",
        "reverse_source_word_index=x_tokenizer.index_word\n",
        "target_word_index=y_tokenizer.word_index"
      ],
      "execution_count": null,
      "outputs": []
    },
    {
      "cell_type": "markdown",
      "metadata": {
        "id": "9nL9wBsW-920"
      },
      "source": [
        "Setting up the inference for the encoder and decoder"
      ]
    },
    {
      "cell_type": "code",
      "metadata": {
        "id": "4MgSLrgeQ3ej"
      },
      "source": [
        "# Encode the input sequence to get the feature vector\n",
        "encoder_model = Model(inputs=encoder_inputs,outputs=[encoder_outputs, state_h, state_c])\n",
        "\n",
        "# Decoder setup\n",
        "# Below tensors will hold the states of the previous time step\n",
        "decoder_state_input_h = Input(shape=(latent_dim,))\n",
        "decoder_state_input_c = Input(shape=(latent_dim,))\n",
        "decoder_hidden_state_input = Input(shape=(max_text_len,latent_dim))\n",
        "\n",
        "# Get the embeddings of the decoder sequence\n",
        "dec_emb2= dec_emb_layer(decoder_inputs) \n",
        "# To predict the next word in the sequence, set the initial states to the states from the previous time step\n",
        "decoder_outputs2, state_h2, state_c2 = decoder_lstm(dec_emb2, initial_state=[decoder_state_input_h, decoder_state_input_c])\n",
        "\n",
        "#attention inference\n",
        "attn_out_inf, attn_states_inf = attn_layer([decoder_hidden_state_input, decoder_outputs2])\n",
        "decoder_inf_concat = Concatenate(axis=-1, name='concat')([decoder_outputs2, attn_out_inf])\n",
        "# A dense softmax layer to generate prob dist. over the target vocabulary\n",
        "decoder_outputs2 = decoder_dense(decoder_inf_concat) \n",
        "\n",
        "# Final decoder model\n",
        "decoder_model = Model(\n",
        "    [decoder_inputs] + [decoder_hidden_state_input,decoder_state_input_h, decoder_state_input_c],\n",
        "    [decoder_outputs2] + [state_h2, state_c2])"
      ],
      "execution_count": null,
      "outputs": []
    },
    {
      "cell_type": "markdown",
      "metadata": {
        "id": "CpRjOgmn_Dzr"
      },
      "source": [
        "Defining a function for implementation of the inference process"
      ]
    },
    {
      "cell_type": "code",
      "metadata": {
        "id": "2Mq5ZMrHEE8y"
      },
      "source": [
        "def decode_sequence(input_seq):\n",
        "    # Encode the input as state vectors.\n",
        "    e_out, e_h, e_c = encoder_model.predict(input_seq)\n",
        "    \n",
        "    # Generate empty target sequence of length 1.\n",
        "    target_seq = np.zeros((1,1))\n",
        "    \n",
        "    # Populate the first word of target sequence with the start word.\n",
        "    target_seq[0, 0] = target_word_index['sostok']\n",
        "\n",
        "    stop_condition = False\n",
        "    decoded_sentence = ''\n",
        "    while not stop_condition:\n",
        "      \n",
        "        output_tokens, h, c = decoder_model.predict([target_seq] + [e_out, e_h, e_c])\n",
        "\n",
        "        # Sample a token\n",
        "        sampled_token_index = np.argmax(output_tokens[0, -1, :])\n",
        "        sampled_token = reverse_target_word_index[sampled_token_index]\n",
        "        \n",
        "        if(sampled_token!='eostok'):\n",
        "            decoded_sentence += ' '+sampled_token\n",
        "\n",
        "        # Exit condition: either hit max length or find stop word.\n",
        "        if (sampled_token == 'eostok'  or len(decoded_sentence.split()) >= (max_summary_len-1)):\n",
        "            stop_condition = True\n",
        "\n",
        "                # Update the target sequence (of length 1).\n",
        "        target_seq = np.zeros((1,1))\n",
        "        target_seq[0, 0] = sampled_token_index\n",
        "\n",
        "        # Update internal states\n",
        "        e_h, e_c = h, c\n",
        "\n",
        "    return decoded_sentence\n"
      ],
      "execution_count": null,
      "outputs": []
    },
    {
      "cell_type": "markdown",
      "metadata": {
        "id": "ArKRDg-Q_OsO"
      },
      "source": [
        "converting an integer sequence to a word sequence for summaries and reviews"
      ]
    },
    {
      "cell_type": "code",
      "metadata": {
        "id": "GjryLYPGEKji"
      },
      "source": [
        "def seq2summary(input_seq):\n",
        "    newString=''\n",
        "    for i in input_seq:\n",
        "        if((i!=0 and i!=target_word_index['sostok']) and i!=target_word_index['eostok']):\n",
        "            newString=newString+reverse_target_word_index[i]+' '\n",
        "    return newString\n",
        "\n",
        "def seq2text(input_seq):\n",
        "    newString=''\n",
        "    for i in input_seq:\n",
        "        if(i!=0):\n",
        "            newString=newString+reverse_source_word_index[i]+' '\n",
        "    return newString"
      ],
      "execution_count": null,
      "outputs": []
    },
    {
      "cell_type": "markdown",
      "metadata": {
        "id": "Tz6c3U0B_TdU"
      },
      "source": [
        "displaying some summaries generated by the model"
      ]
    },
    {
      "cell_type": "code",
      "metadata": {
        "id": "sKov9q_7EVnO",
        "outputId": "7df716c6-72a9-4e2b-a632-69c6b5b27cb5",
        "colab": {
          "base_uri": "https://localhost:8080/"
        }
      },
      "source": [
        "for i in range(400,450):\n",
        "    print(\"Review:\",seq2text(x_tr[i]))\n",
        "    print(\"Original summary:\",seq2summary(y_tr[i]))\n",
        "    print(\"Predicted summary:\",decode_sequence(x_tr[i].reshape(1,max_text_len)))\n",
        "    print(\"\\n\")"
      ],
      "execution_count": null,
      "outputs": [
        {
          "output_type": "stream",
          "text": [
            "Review: left packaging review stating bottles came broken response assume normal course action recommend anyone purchase product without expecting receive well soaked box soy cardboard \n",
            "Original summary: arrived broken \n",
            "Predicted summary:  not as advertised\n",
            "\n",
            "\n",
            "Review: got product local co op great really good grilled cheese mixing things like tsp \n",
            "Original summary: great vegan cheese substitute \n",
            "Predicted summary:  great product\n",
            "\n",
            "\n",
            "Review: use protein shakes combine maca hemp protein super green food supplement fresh frozen fruit great \n",
            "Original summary: excellent supplement \n",
            "Predicted summary:  great product\n",
            "\n",
            "\n",
            "Review: used get candy bar overseas kid loved got christmas couple years ago gave one friends loved every months ask candy bar reminds combination twix kit kat crunch bar one best \n",
            "Original summary: best candy bar ever \n",
            "Predicted summary:  mars bar\n",
            "\n",
            "\n",
            "Review: wonderful rice topping toppings normally used ochazukemono kind rice porridge ochazukemono steal line ratatouille peasant dish commonly eaten snack japanese homes ochazukemono simply rice dried salmon flakes dried seaweed covered tea cup green tea dish surprisingly simple remains one enduring souvenirs japan love furikake sprinkle rice add tea cup green tea quick nutritious delicious snack \n",
            "Original summary: quick easy delish rice porridge \n",
            "Predicted summary:  delicious\n",
            "\n",
            "\n",
            "Review: rice cereal contains arsenic may cause cancer check see switch oatmeal instead brand carries well google rice cereal arsenic information feeding baby rice reading arsenic \n",
            "Original summary: contains arsenic \n",
            "Predicted summary:  arsenic\n",
            "\n",
            "\n",
            "Review: sent basket friends said lovely shipping lightening fast highly recommended \n",
            "Original summary: beautiful gift \n",
            "Predicted summary:  great gift\n",
            "\n",
            "\n",
            "Review: bought amazon seeds quinoa brown rice garlic oz pkg current ad shows word included label one ordered receive seeds change making product bought particular item word label costco prefer seeds change one without word label got instead amazon one moisture flavor asin seeds change organic quinoa brown rice garlic ounce count \n",
            "Original summary: wondering \n",
            "Predicted summary:  not what ordered\n",
            "\n",
            "\n",
            "Review: best part able try different coffees worst part would one hubby either share sneak buying pack forced us try ones would never tried find names hokey coffee really good \n",
            "Original summary: good deal on good coffees \n",
            "Predicted summary:  great coffee\n",
            "\n",
            "\n",
            "Review: used natural calm time drinking hot night finding item amazon makes easier less expensive enjoy \n",
            "Original summary: great \n",
            "Predicted summary:  great product\n",
            "\n",
            "\n",
            "Review: found drink somewhat refreshing one reviewer remarked however provide true black raspberry flavoring would say closely resembles blackberry boysenberry black currant flavor case fairly quenching sickly sweet probably could given four stars \n",
            "Original summary: way too sweet \n",
            "Predicted summary:  not the same\n",
            "\n",
            "\n",
            "Review: tea drinker coffee sick needed hot tea wife bought english breakfast tea cups store used keurig coffee bit skeptical tea amazing going keep stocked pantry \n",
            "Original summary: this tea is amazing \n",
            "Predicted summary:  best tea ever\n",
            "\n",
            "\n",
            "Review: bought trouble finding nice slab ham fresh tomatoes slice swiss good rye got something special eat \n",
            "Original summary: splendid spicy stuff \n",
            "Predicted summary:  great product\n",
            "\n",
            "\n",
            "Review: flavor sunbutter toasty buttery something like peanut butter twice good sunflower seeds nutritionally superior peanuts sunbutter works anywhere peanut butter including making great cookies thai peanut sauces buy case everyone family loves allergic peanuts looking better nut butter reasonable price recommend come way organic version like crunchy version best \n",
            "Original summary: way better than peanut butter \n",
            "Predicted summary:  great peanut butter\n",
            "\n",
            "\n",
            "Review: although liked taste mate really upset stomach ibs sensitive digestion anyway never problems rosamonte brand never knew mate could issue couple sips cruz de la malta bam basically confined bathroom afternoon sensitive stomach beware otherwise one cheapest brands order amazon bulk nice \n",
            "Original summary: really upset my stomach \n",
            "Predicted summary:  great for sensitive stomach\n",
            "\n",
            "\n",
            "Review: read ingrediant list calories regular frozen blueberries weight high fructose corn syrup sunflower oil blueberry flavor really belong natural blueberries believe go website look says ingredients blueberries high fructose corn syrup malic acid sunflower oil natural blueberry flavor citric acid realy candy \n",
            "Original summary: junk unhealthy the second is high fructose corn syrup \n",
            "Predicted summary:  not what expected\n",
            "\n",
            "\n",
            "Review: would buy house always welcome cup better brands earl grey carried cafes hearty strong bergamot flavor tea earl grey mighty leaf choice organics celestial seasonings tea seems par tazo republic good revolution far leaves \n",
            "Original summary: good cheap hearty \n",
            "Predicted summary:  great tea\n",
            "\n",
            "\n",
            "Review: used rice paella dish delicious real crowd pleaser \n",
            "Original summary: yummy rice \n",
            "Predicted summary:  rice\n",
            "\n",
            "\n",
            "Review: sorry stated reviews german breed picky care smell beef rolls even care come close take nd sniff sorry star triggered give least star continue review \n",
            "Original summary: sorry no good \n",
            "Predicted summary:  not for my dog\n",
            "\n",
            "\n",
            "Review: arrived broken leaking box give gift later gift recipient told chocolate bottles filled kind alcohol variation supposed four distinct flavors great idea work well \n",
            "Original summary: great idea but was left disappointed \n",
            "Predicted summary:  not as good as the picture\n",
            "\n",
            "\n",
            "Review: chinese chestnuts perfectly cooked moist one mouth make perfect chestnut dressing thanksgiving christmas turkey ordered twice honestly say good wholesome product look forward purchasing delectible chestnuts make cooking process less bothersome around busy holidays \n",
            "Original summary: chinese roasted chestnuts \n",
            "Predicted summary:  delicious\n",
            "\n",
            "\n",
            "Review: going eat pop tarts within months might well buy expire december thank goodness boys family devour pop tarts worry cheap expire \n",
            "Original summary: expires soon \n",
            "Predicted summary:  expiration date\n",
            "\n",
            "\n",
            "Review: drinking yuban organic medium roast coffee could find anymore local grocery store tried instead let drinking organic coffee tastes like average grocery store coffee comparable folgers organic stuff different story stuff good tastes damn near good fresh stuff buy bros caribou coffee houses believe try organic version side side go back promise coffee sense \n",
            "Original summary: not as good as the organic version \n",
            "Predicted summary:  great coffee\n",
            "\n",
            "\n",
            "Review: swim laps exercise constantly looking products help keep hair drying much easy use shampoo conditioner combo fits bill kept hair manageable feeling dried even long swims \n",
            "Original summary: does the job \n",
            "Predicted summary:  great for hair\n",
            "\n",
            "\n",
            "Review: jets leave atmosphere right well stuff put orbit prefer cent cup would buy starbucks rate savings pay entire keurig coffee maker less weeks flavor strong might want add creamer mitigate \n",
            "Original summary: it should be called rocket fuel \n",
            "Predicted summary:  rocket fuel\n",
            "\n",
            "\n",
            "Review: greatest cat treats planet anything natural healthy amazing \n",
            "Original summary: super \n",
            "Predicted summary:  my cat loves these\n",
            "\n",
            "\n",
            "Review: sorry mccormick took month eliminating spices ingredients one time spaghetti sauce determine dirt oregano reminds much lunch beach get dirt bottom half jar late return \n",
            "Original summary: with dash of dirt \n",
            "Predicted summary:  not the same as the name\n",
            "\n",
            "\n",
            "Review: vegan looking gluten free foods since product labeled take word real interest bar natural foods comprise pronounce everything label pluses really taste crunchy peanuts sweet raisins packed real flavor small bar also protein fiber minuses bar sticky sticks wrapper fingers eating air conditioning perhaps popping refrigerator would help small bar also calories least filled healthy ingredients use snack side item tasty treat even moreso granola bar \n",
            "Original summary: very fresh tasting but sticky \n",
            "Predicted summary:  great snack bar\n",
            "\n",
            "\n",
            "Review: let start saying male lbs early workout regularly much prefer bacon beer vegetables however since also like feeling good shape living longer healthier figured would give stuff shot gone roughly servings stuff really love could placebo effect always feel peaceful energy takes drinking also use morning protein shake eat mcdonalds every day suck milkshakes soda cookies chips true stuff going taste amazing conditioned taste buds crave artificial trash however afraid veggies unprocessed crap taste fine love stuff \n",
            "Original summary: love this stuff \n",
            "Predicted summary:  great energy booster\n",
            "\n",
            "\n",
            "Review: upset seemed could longer purchase decaf senseo pods us ran across amazon perfectly good substitute allows us continue enjoy senseo also ordered box mother law also enjoys senseo difficult time finding decaf pods \n",
            "Original summary: good replacement since senseo decaf pods are \n",
            "Predicted summary:  senseo pods\n",
            "\n",
            "\n",
            "Review: used instant breakfast many years really like quick easy busy mornings used purchase sam costco little packets think canister version much better taste would love see dark chocolate version canister \n",
            "Original summary: quick easy \n",
            "Predicted summary:  great breakfast\n",
            "\n",
            "\n",
            "Review: got sauce christmas present expecting good although thought bit mild taste made lack burn versatile sauce great depth flavor highly recommend polished whole bottle two days says \n",
            "Original summary: this sauce rocks \n",
            "Predicted summary:  great sauce\n",
            "\n",
            "\n",
            "Review: better offerings packs mild slight hint creame bite prefer heavy tea english aftertaste try black tea listed \n",
            "Original summary: earl grey \n",
            "Predicted summary:  good tea\n",
            "\n",
            "\n",
            "Review: absolutely love smoothness fresh flavor steams coffee cup sipping amazingly delicious coffee fantastic price \n",
            "Original summary: delicious \n",
            "Predicted summary:  great coffee\n",
            "\n",
            "\n",
            "Review: great product price hormone antibiotic free meats quality ingredients mix dry one food five dogs morning feed dry food evening dogs teeth compares well california natural canidae chicken soup dogs lover soul better ingredients quality foods feed dog properly avoid visit vet often problems dog longer healthier life dogs important beings planet devote lives us give back treat like devoted friends husbands wives children may desert dogs never \n",
            "Original summary: my five dogs \n",
            "Predicted summary:  great food\n",
            "\n",
            "\n",
            "Review: love healthy sparking sold anywhere around except health stores quite expensive bj stores carry either perfect travel healthy soda carbonated effect love love love especially watermelon would love see sold non variety packs would stock couple \n",
            "Original summary: great item \n",
            "Predicted summary:  great product\n",
            "\n",
            "\n",
            "Review: many bagged teas many last count brands personal favorite bewley irish purveyor provides hearty cuppa every time partial breakfast afternoon teas black strong cafe dublin institution worthy visit ever find part blue marble barring however snag box two bags brew little bit celtic heaven cup sl \n",
            "Original summary: cuppa worthy of review \n",
            "Predicted summary:  the best tea ever\n",
            "\n",
            "\n",
            "Review: spices apple flavor would much better sugar free product small detail listed description cider really like taste sweeteners tart always better sickly sweet \n",
            "Original summary: free surprise \n",
            "Predicted summary:  too sweet\n",
            "\n",
            "\n",
            "Review: tried tons cocoa droste truly best make mocha coffees also bake best \n",
            "Original summary: droste cocoa is the best \n",
            "Predicted summary:  best cocoa ever\n",
            "\n",
            "\n",
            "Review: excited order great reviews thought finally found something could kids could eat junky snack good waste money kids took one bite like got try another bite spit thought bars could bad decided open one try ewww wonder kids would eat dry taste like cardboard anything resembling chocolate chip certainly bit chocolatey flavor spit also sure friend try reaction giving kids well intended knowing know taste way buy something else \n",
            "Original summary: these are disgusting \n",
            "Predicted summary:  not bad\n",
            "\n",
            "\n",
            "Review: used able find stash licorice major grocery stores baffled disappeared shelves found online herbal tea found naturally sweet add sugar sweeteners aroma heavenly added bonus acts appetite suppressant inhaling scent palate crave anything else great dinner bed drink \n",
            "Original summary: why is this tea not famous and available \n",
            "Predicted summary:  best tea ever\n",
            "\n",
            "\n",
            "Review: husband coffee snob usually pooh star bucks however actually liked coffee said nice vanilla aroma without overwhelming coffee taste give try \n",
            "Original summary: by coffee snob \n",
            "Predicted summary:  good coffee\n",
            "\n",
            "\n",
            "Review: chocolate covered espresso beans absolutely heavenly enough caffeine awaken afternoon preferably lunch \n",
            "Original summary: purely addictive \n",
            "Predicted summary:  delicious\n",
            "\n",
            "\n",
            "Review: chips ahoy mass production outfit always going something bit industrial cookies turn definitely edible exactly addictive could find putting away one sitting chocolate ones better traditional version still quality chocolate industrial best wife knows chocolate said tasted like trying craft something darker milk chocolate without characteristic bitterness true dark chocolate think succeeded looking connoisseur cookie experience need something snackin might bad keep cabinet make eat \n",
            "Original summary: not the best cookies ever but very \n",
            "Predicted summary:  not the best chocolate chips\n",
            "\n",
            "\n",
            "Review: love sauce turned amazon local store stopped carrying bought case free super saver shipping enough cupboard earthquake supplies \n",
            "Original summary: great sauce \n",
            "Predicted summary:  hp sauce\n",
            "\n",
            "\n",
            "Review: used product past days effects eyes visited doctor months back bag one eye shows smile doctor says form premature aging way sleep thought cream would work resolve issue effect bag \n",
            "Original summary: does not work \n",
            "Predicted summary:  didn work for me\n",
            "\n",
            "\n",
            "Review: gift dear friend likes basket much speed deliver fast \n",
            "Original summary: great gift \n",
            "Predicted summary:  great gift\n",
            "\n",
            "\n",
            "Review: received bar influenster voxbox review fell love absolutely adore gave little piece every one family try loved well found target bought two boxes bars really nice big banana nut taste quite filling even delicious warmed bit seriously stocking put kids lunch boxes school starts \n",
            "Original summary: so delicious \n",
            "Predicted summary:  quaker soft baked oatmeal cookies\n",
            "\n",
            "\n",
            "Review: tastes bad little sour besides chestnut peel little package suggested \n",
            "Original summary: not good \n",
            "Predicted summary:  sour\n",
            "\n",
            "\n",
            "Review: rarely write reviews thought product deserved seen starbucks package going pay cookies pay little packages using subscribe save code amazon arrived super fast always broke sugar cookies first perfect light airy perfect sugar cookie taste tried rest sure base different add ins favorite gf cookie far outside homemade ones bakery perfect size lunch snack cookies small portioned controlled \n",
            "Original summary: very surprised at how good these are \n",
            "Predicted summary:  great cookie\n",
            "\n",
            "\n"
          ],
          "name": "stdout"
        }
      ]
    },
    {
      "cell_type": "code",
      "metadata": {
        "id": "599sqO0lEYX6"
      },
      "source": [
        ""
      ],
      "execution_count": null,
      "outputs": []
    }
  ]
}